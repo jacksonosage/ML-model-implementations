{
 "cells": [
  {
   "cell_type": "markdown",
   "metadata": {},
   "source": [
    "# Linear and Ridge Regression"
   ]
  },
  {
   "cell_type": "code",
   "execution_count": 1,
   "metadata": {},
   "outputs": [],
   "source": [
    "import numpy as np\n",
    "import pandas as pd\n",
    "from math import sqrt\n",
    "from matplotlib import pyplot as plt\n",
    "%matplotlib inline"
   ]
  },
  {
   "cell_type": "markdown",
   "metadata": {},
   "source": [
    "### Explore Data"
   ]
  },
  {
   "cell_type": "code",
   "execution_count": 2,
   "metadata": {},
   "outputs": [],
   "source": [
    "data_train = pd.read_table('Data/crime-train.txt')\n",
    "data_test = pd.read_table('Data/crime-test.txt')"
   ]
  },
  {
   "cell_type": "code",
   "execution_count": 3,
   "metadata": {
    "scrolled": true
   },
   "outputs": [
    {
     "data": {
      "text/html": [
       "<div>\n",
       "<style scoped>\n",
       "    .dataframe tbody tr th:only-of-type {\n",
       "        vertical-align: middle;\n",
       "    }\n",
       "\n",
       "    .dataframe tbody tr th {\n",
       "        vertical-align: top;\n",
       "    }\n",
       "\n",
       "    .dataframe thead th {\n",
       "        text-align: right;\n",
       "    }\n",
       "</style>\n",
       "<table border=\"1\" class=\"dataframe\">\n",
       "  <thead>\n",
       "    <tr style=\"text-align: right;\">\n",
       "      <th></th>\n",
       "      <th>ViolentCrimesPerPop</th>\n",
       "      <th>population</th>\n",
       "      <th>householdsize</th>\n",
       "      <th>agePct12t21</th>\n",
       "      <th>agePct12t29</th>\n",
       "      <th>agePct16t24</th>\n",
       "      <th>agePct65up</th>\n",
       "      <th>numbUrban</th>\n",
       "      <th>pctUrban</th>\n",
       "      <th>medIncome</th>\n",
       "      <th>...</th>\n",
       "      <th>NumStreet</th>\n",
       "      <th>PctForeignBorn</th>\n",
       "      <th>PctBornSameState</th>\n",
       "      <th>PctSameHouse85</th>\n",
       "      <th>PctSameCity85</th>\n",
       "      <th>PctSameState85</th>\n",
       "      <th>LandArea</th>\n",
       "      <th>PopDens</th>\n",
       "      <th>PctUsePubTrans</th>\n",
       "      <th>LemasPctOfficDrugUn</th>\n",
       "    </tr>\n",
       "  </thead>\n",
       "  <tbody>\n",
       "    <tr>\n",
       "      <th>0</th>\n",
       "      <td>0.67</td>\n",
       "      <td>-0.45</td>\n",
       "      <td>-1.85</td>\n",
       "      <td>-1.06</td>\n",
       "      <td>0.67</td>\n",
       "      <td>0.08</td>\n",
       "      <td>-0.85</td>\n",
       "      <td>-0.34</td>\n",
       "      <td>0.68</td>\n",
       "      <td>-0.24</td>\n",
       "      <td>...</td>\n",
       "      <td>-0.23</td>\n",
       "      <td>-0.02</td>\n",
       "      <td>-0.53</td>\n",
       "      <td>-1.08</td>\n",
       "      <td>-0.13</td>\n",
       "      <td>-0.66</td>\n",
       "      <td>-0.41</td>\n",
       "      <td>-0.56</td>\n",
       "      <td>1.26</td>\n",
       "      <td>-0.39</td>\n",
       "    </tr>\n",
       "    <tr>\n",
       "      <th>1</th>\n",
       "      <td>0.43</td>\n",
       "      <td>-0.45</td>\n",
       "      <td>-0.27</td>\n",
       "      <td>-0.22</td>\n",
       "      <td>-0.17</td>\n",
       "      <td>-0.34</td>\n",
       "      <td>-0.58</td>\n",
       "      <td>-0.50</td>\n",
       "      <td>-1.57</td>\n",
       "      <td>-0.29</td>\n",
       "      <td>...</td>\n",
       "      <td>-0.23</td>\n",
       "      <td>-0.33</td>\n",
       "      <td>-0.58</td>\n",
       "      <td>0.03</td>\n",
       "      <td>0.22</td>\n",
       "      <td>-0.46</td>\n",
       "      <td>-0.50</td>\n",
       "      <td>-0.11</td>\n",
       "      <td>-0.62</td>\n",
       "      <td>-0.39</td>\n",
       "    </tr>\n",
       "    <tr>\n",
       "      <th>2</th>\n",
       "      <td>0.12</td>\n",
       "      <td>-0.14</td>\n",
       "      <td>1.87</td>\n",
       "      <td>0.55</td>\n",
       "      <td>0.04</td>\n",
       "      <td>0.02</td>\n",
       "      <td>-1.19</td>\n",
       "      <td>-0.03</td>\n",
       "      <td>0.68</td>\n",
       "      <td>1.05</td>\n",
       "      <td>...</td>\n",
       "      <td>-0.23</td>\n",
       "      <td>-0.11</td>\n",
       "      <td>-1.51</td>\n",
       "      <td>1.07</td>\n",
       "      <td>0.07</td>\n",
       "      <td>-0.01</td>\n",
       "      <td>-0.41</td>\n",
       "      <td>0.77</td>\n",
       "      <td>0.52</td>\n",
       "      <td>-0.39</td>\n",
       "    </tr>\n",
       "    <tr>\n",
       "      <th>3</th>\n",
       "      <td>0.03</td>\n",
       "      <td>-0.38</td>\n",
       "      <td>0.53</td>\n",
       "      <td>-0.28</td>\n",
       "      <td>-0.79</td>\n",
       "      <td>-0.64</td>\n",
       "      <td>-0.35</td>\n",
       "      <td>-0.34</td>\n",
       "      <td>0.46</td>\n",
       "      <td>0.66</td>\n",
       "      <td>...</td>\n",
       "      <td>-0.23</td>\n",
       "      <td>-0.46</td>\n",
       "      <td>0.54</td>\n",
       "      <td>0.58</td>\n",
       "      <td>-0.08</td>\n",
       "      <td>-0.61</td>\n",
       "      <td>-0.23</td>\n",
       "      <td>-0.70</td>\n",
       "      <td>-0.62</td>\n",
       "      <td>-0.39</td>\n",
       "    </tr>\n",
       "    <tr>\n",
       "      <th>4</th>\n",
       "      <td>0.14</td>\n",
       "      <td>-0.30</td>\n",
       "      <td>-1.12</td>\n",
       "      <td>-0.74</td>\n",
       "      <td>-0.10</td>\n",
       "      <td>-0.40</td>\n",
       "      <td>-0.30</td>\n",
       "      <td>-0.19</td>\n",
       "      <td>0.68</td>\n",
       "      <td>0.76</td>\n",
       "      <td>...</td>\n",
       "      <td>-0.23</td>\n",
       "      <td>2.10</td>\n",
       "      <td>-0.92</td>\n",
       "      <td>-0.25</td>\n",
       "      <td>0.52</td>\n",
       "      <td>-0.06</td>\n",
       "      <td>-0.50</td>\n",
       "      <td>1.71</td>\n",
       "      <td>-0.27</td>\n",
       "      <td>-0.39</td>\n",
       "    </tr>\n",
       "  </tbody>\n",
       "</table>\n",
       "<p>5 rows × 96 columns</p>\n",
       "</div>"
      ],
      "text/plain": [
       "   ViolentCrimesPerPop  population  householdsize  agePct12t21  agePct12t29  \\\n",
       "0                 0.67       -0.45          -1.85        -1.06         0.67   \n",
       "1                 0.43       -0.45          -0.27        -0.22        -0.17   \n",
       "2                 0.12       -0.14           1.87         0.55         0.04   \n",
       "3                 0.03       -0.38           0.53        -0.28        -0.79   \n",
       "4                 0.14       -0.30          -1.12        -0.74        -0.10   \n",
       "\n",
       "   agePct16t24  agePct65up  numbUrban  pctUrban  medIncome  \\\n",
       "0         0.08       -0.85      -0.34      0.68      -0.24   \n",
       "1        -0.34       -0.58      -0.50     -1.57      -0.29   \n",
       "2         0.02       -1.19      -0.03      0.68       1.05   \n",
       "3        -0.64       -0.35      -0.34      0.46       0.66   \n",
       "4        -0.40       -0.30      -0.19      0.68       0.76   \n",
       "\n",
       "          ...           NumStreet  PctForeignBorn  PctBornSameState  \\\n",
       "0         ...               -0.23           -0.02             -0.53   \n",
       "1         ...               -0.23           -0.33             -0.58   \n",
       "2         ...               -0.23           -0.11             -1.51   \n",
       "3         ...               -0.23           -0.46              0.54   \n",
       "4         ...               -0.23            2.10             -0.92   \n",
       "\n",
       "   PctSameHouse85  PctSameCity85  PctSameState85  LandArea  PopDens  \\\n",
       "0           -1.08          -0.13           -0.66     -0.41    -0.56   \n",
       "1            0.03           0.22           -0.46     -0.50    -0.11   \n",
       "2            1.07           0.07           -0.01     -0.41     0.77   \n",
       "3            0.58          -0.08           -0.61     -0.23    -0.70   \n",
       "4           -0.25           0.52           -0.06     -0.50     1.71   \n",
       "\n",
       "   PctUsePubTrans  LemasPctOfficDrugUn  \n",
       "0            1.26                -0.39  \n",
       "1           -0.62                -0.39  \n",
       "2            0.52                -0.39  \n",
       "3           -0.62                -0.39  \n",
       "4           -0.27                -0.39  \n",
       "\n",
       "[5 rows x 96 columns]"
      ]
     },
     "execution_count": 3,
     "metadata": {},
     "output_type": "execute_result"
    }
   ],
   "source": [
    "data_train.head()"
   ]
  },
  {
   "cell_type": "code",
   "execution_count": 4,
   "metadata": {},
   "outputs": [],
   "source": [
    "data_train.to_csv('clean_data.csv')"
   ]
  },
  {
   "cell_type": "markdown",
   "metadata": {},
   "source": [
    "### Useful Functions"
   ]
  },
  {
   "cell_type": "code",
   "execution_count": 5,
   "metadata": {},
   "outputs": [],
   "source": [
    "def RMSE(y_actual, y_pred):\n",
    "    return sqrt(((y_actual-y_pred).T @ (y_actual-y_pred))/len(y_actual))"
   ]
  },
  {
   "cell_type": "markdown",
   "metadata": {},
   "source": [
    "### Generate Design Matrices"
   ]
  },
  {
   "cell_type": "code",
   "execution_count": 6,
   "metadata": {},
   "outputs": [],
   "source": [
    "def design_matrices(df):\n",
    "    df['intercept'] = np.ones(len(df))\n",
    "    X = np.array(df.drop('ViolentCrimesPerPop',axis=1))\n",
    "    y = np.array(df['ViolentCrimesPerPop'].values.reshape(len(df),1))\n",
    "    return X,y"
   ]
  },
  {
   "cell_type": "code",
   "execution_count": 7,
   "metadata": {},
   "outputs": [],
   "source": [
    "X_train, y_train = design_matrices(data_train)\n",
    "X_test, y_test = design_matrices(data_test)"
   ]
  },
  {
   "cell_type": "markdown",
   "metadata": {},
   "source": [
    "### 1.) Linear Regression - Closed Form"
   ]
  },
  {
   "cell_type": "code",
   "execution_count": 8,
   "metadata": {},
   "outputs": [],
   "source": [
    "def linear_regression_closedForm(X,y):\n",
    "    w = np.linalg.inv(X.T @ X) @ X.T @ y\n",
    "    return w"
   ]
  },
  {
   "cell_type": "code",
   "execution_count": 9,
   "metadata": {},
   "outputs": [],
   "source": [
    "# Train model\n",
    "w_lrCF = linear_regression_closedForm(X_train,y_train)"
   ]
  },
  {
   "cell_type": "code",
   "execution_count": 10,
   "metadata": {},
   "outputs": [],
   "source": [
    "# Predict crime rates for training data and testing data\n",
    "lrCF_preds_train = X_train @ w_lrCF\n",
    "lrCF_preds_test = X_test @ w_lrCF"
   ]
  },
  {
   "cell_type": "markdown",
   "metadata": {},
   "source": [
    "#### Results"
   ]
  },
  {
   "cell_type": "code",
   "execution_count": 11,
   "metadata": {},
   "outputs": [
    {
     "name": "stdout",
     "output_type": "stream",
     "text": [
      "Training RMSE:  0.12768967421762195\n",
      "Test RMSE:  0.14583464490949063\n"
     ]
    }
   ],
   "source": [
    "print('Training RMSE: ', RMSE(y_train, lrCF_preds_train))\n",
    "print('Test RMSE: ', RMSE(y_test,lrCF_preds_test))"
   ]
  },
  {
   "cell_type": "markdown",
   "metadata": {},
   "source": [
    "### 2.) Ridge Regression - Closed Form"
   ]
  },
  {
   "cell_type": "code",
   "execution_count": 12,
   "metadata": {},
   "outputs": [],
   "source": [
    "def ridge_regression_closedForm(X,y,lam):\n",
    "    w = np.linalg.inv(X.T @ X + lam*np.eye(X.shape[1])) @ X.T @ y\n",
    "    return w"
   ]
  },
  {
   "cell_type": "code",
   "execution_count": 13,
   "metadata": {},
   "outputs": [],
   "source": [
    "def k_fold_crossValidation_cf(X,y,k,lam_i):\n",
    "    errors = {} # Dictionary to store averaged RMSE for different lambda values {lambda: RMSE}\n",
    "    for i in range(0,10):\n",
    "        lam = lam_i/(2**i)\n",
    "        error_temp = []\n",
    "        for i in range(0,k):\n",
    "            k_parts_X = np.split(X,k)\n",
    "            k_parts_y = np.split(y,k)\n",
    "            Xtest = k_parts_X.pop(i)\n",
    "            ytest = k_parts_y.pop(i)\n",
    "            Xtrain = np.concatenate(k_parts_X)\n",
    "            ytrain = np.concatenate(k_parts_y)\n",
    "            w_temp = ridge_regression_closedForm(Xtrain,ytrain,lam)\n",
    "\n",
    "            preds = Xtest @ w_temp\n",
    "            error_temp.append(RMSE(ytest,preds))\n",
    "        errors[lam] = np.mean(error_temp)\n",
    "        \n",
    "    return min(errors, key=errors.get)"
   ]
  },
  {
   "cell_type": "code",
   "execution_count": 14,
   "metadata": {},
   "outputs": [
    {
     "name": "stdout",
     "output_type": "stream",
     "text": [
      "Optimal lambda:  25.0\n"
     ]
    }
   ],
   "source": [
    "# Find best value for lambda\n",
    "ideal_lam_lr= k_fold_crossValidation_cf(X_train, y_train,5,400)\n",
    "print(\"Optimal lambda: \", ideal_lam_lr)"
   ]
  },
  {
   "cell_type": "code",
   "execution_count": 15,
   "metadata": {},
   "outputs": [],
   "source": [
    "# Train model\n",
    "w_rrCF = ridge_regression_closedForm(X_train, y_train, ideal_lam_lr)"
   ]
  },
  {
   "cell_type": "code",
   "execution_count": 16,
   "metadata": {},
   "outputs": [],
   "source": [
    "# Predict crime rates for training data and testing data\n",
    "rrCF_preds_train = X_train @ w_rrCF\n",
    "rrCF_preds_test = X_test @ w_rrCF"
   ]
  },
  {
   "cell_type": "markdown",
   "metadata": {},
   "source": [
    "#### Results"
   ]
  },
  {
   "cell_type": "code",
   "execution_count": 17,
   "metadata": {},
   "outputs": [
    {
     "name": "stdout",
     "output_type": "stream",
     "text": [
      "Training RMSE:  0.12879701459879794\n",
      "Test RMSE:  0.1457465070705806\n"
     ]
    }
   ],
   "source": [
    "print('Training RMSE: ', RMSE(y_train, rrCF_preds_train))\n",
    "print('Test RMSE: ', RMSE(y_test, rrCF_preds_test))"
   ]
  },
  {
   "cell_type": "markdown",
   "metadata": {},
   "source": [
    "### 3.) Linear Regression - Gradient Descent"
   ]
  },
  {
   "cell_type": "code",
   "execution_count": 18,
   "metadata": {},
   "outputs": [],
   "source": [
    "# Loss Function\n",
    "def compute_loss_lr(X, y, w): \n",
    "    return np.asscalar((X@w - y).T @ (X@w - y))"
   ]
  },
  {
   "cell_type": "code",
   "execution_count": 19,
   "metadata": {},
   "outputs": [],
   "source": [
    "# Gradient Descent Algorithm\n",
    "def linear_regression_gradientDescent(X, y, alpha, converge_thresh, ret_lossHistory=False):\n",
    "    w = np.random.normal(size=(X.shape[1],1))       # initial guess\n",
    "    loss_history = [compute_loss_lr(X,y,w)]         # Keep track of loss over iterations to ensure it decreasing\n",
    "    loss_dif = loss_history[0]\n",
    "    iteration = 0\n",
    "    \n",
    "    while loss_dif > converge_thresh:\n",
    "        w = w + alpha * (X.T @ (y - X @ w))\n",
    "        loss_history.append(compute_loss_lr(X,y,w))\n",
    "        loss_dif = loss_history[iteration] - loss_history[iteration+1]\n",
    "        iteration += 1\n",
    "        \n",
    "    if ret_lossHistory:\n",
    "        return w, loss_history\n",
    "    else:\n",
    "        return w"
   ]
  },
  {
   "cell_type": "code",
   "execution_count": 20,
   "metadata": {},
   "outputs": [],
   "source": [
    "w_lrGD, loss_history = linear_regression_gradientDescent(X_train,y_train,0.00005,converge_thresh=1e-6, ret_lossHistory=True)"
   ]
  },
  {
   "cell_type": "code",
   "execution_count": 21,
   "metadata": {},
   "outputs": [
    {
     "data": {
      "image/png": "[encoded data removed]",
      "text/plain": [
       "<Figure size 432x288 with 1 Axes>"
      ]
     },
     "metadata": {},
     "output_type": "display_data"
    }
   ],
   "source": [
    "plt.plot(np.linspace(0,len(loss_history)-1,len(loss_history)),loss_history)\n",
    "plt.title('Covergance of Loss Function over %d Iterations' % (len(loss_history)-1))\n",
    "plt.xlabel('Iteration')\n",
    "plt.ylabel('Loss Function');"
   ]
  },
  {
   "cell_type": "code",
   "execution_count": 22,
   "metadata": {},
   "outputs": [],
   "source": [
    "# Predict crime rates for training data and testing data\n",
    "lrGD_preds_train = X_train @ w_lrGD\n",
    "lrGD_preds_test = X_test @ w_lrGD"
   ]
  },
  {
   "cell_type": "markdown",
   "metadata": {},
   "source": [
    "#### Results"
   ]
  },
  {
   "cell_type": "code",
   "execution_count": 23,
   "metadata": {},
   "outputs": [
    {
     "name": "stdout",
     "output_type": "stream",
     "text": [
      "Training RMSE:  0.12771102875017526\n",
      "Test RMSE:  0.14566827074850322\n"
     ]
    }
   ],
   "source": [
    "print('Training RMSE: ', RMSE(y_train, lrGD_preds_train))\n",
    "print('Test RMSE: ', RMSE(y_test,lrGD_preds_test))"
   ]
  },
  {
   "cell_type": "markdown",
   "metadata": {},
   "source": [
    "### 4.) Ridge Regression - Gradient Descent"
   ]
  },
  {
   "cell_type": "code",
   "execution_count": 24,
   "metadata": {},
   "outputs": [],
   "source": [
    "# Loss Function\n",
    "def compute_loss_rr(X, y, w, lam):\n",
    "    return np.asscalar((X@w - y).T @ (X@w - y) + lam*(w.T@w))"
   ]
  },
  {
   "cell_type": "code",
   "execution_count": 25,
   "metadata": {},
   "outputs": [],
   "source": [
    "# Gradient Descent Algorithm\n",
    "def ridge_regression_gradientDescent(X, y, lam, alpha, converge_thresh, ret_lossHistory=False):\n",
    "    w = np.random.normal(size=(X.shape[1],1))           # initial guess\n",
    "    loss_history = [compute_loss_rr(X,y,w,lam)]         # Keep track of loss over iterations to ensure it decreasing\n",
    "    loss_dif = loss_history[0]\n",
    "    iteration = 0\n",
    "    \n",
    "    while loss_dif > converge_thresh:\n",
    "        w = w + alpha * ((X.T @ (y - X @ w)) - lam*w)\n",
    "        loss_history.append(compute_loss_rr(X,y,w,lam))\n",
    "        loss_dif = loss_history[iteration] - loss_history[iteration+1]\n",
    "        iteration += 1\n",
    "        \n",
    "    if ret_lossHistory:\n",
    "        return w, loss_history\n",
    "    else:\n",
    "        return w"
   ]
  },
  {
   "cell_type": "code",
   "execution_count": 26,
   "metadata": {},
   "outputs": [],
   "source": [
    "def k_fold_crossValidation_gd(X,y,k,lam_i):\n",
    "    errors = {} # Dictionary to store averaged RMSE for different lambda values {lambda: RMSE}\n",
    "    for i in range(0,10):\n",
    "        lam = lam_i/(2**i)\n",
    "        error_temp = []\n",
    "        for i in range(0,k):\n",
    "            k_parts_X = np.split(X,k)\n",
    "            k_parts_y = np.split(y,k)\n",
    "            Xtest = k_parts_X.pop(i)\n",
    "            ytest = k_parts_y.pop(i)\n",
    "            X_temp = np.concatenate(k_parts_X)\n",
    "            y_temp = np.concatenate(k_parts_y)\n",
    "            w_temp = ridge_regression_gradientDescent(X_temp,y_temp,lam,0.00005,1e-5)\n",
    "\n",
    "            preds = Xtest @ w_temp\n",
    "            error_temp.append(RMSE(ytest,preds))\n",
    "        errors[lam] = np.mean(error_temp)\n",
    "        \n",
    "    return min(errors, key=errors.get)"
   ]
  },
  {
   "cell_type": "code",
   "execution_count": 27,
   "metadata": {},
   "outputs": [
    {
     "name": "stdout",
     "output_type": "stream",
     "text": [
      "Optimal lambda:  25.0\n"
     ]
    }
   ],
   "source": [
    "ideal_lam_rr = k_fold_crossValidation_gd(X_train,y_train,5,400)\n",
    "print(\"Optimal lambda: \", ideal_lam_rr)"
   ]
  },
  {
   "cell_type": "code",
   "execution_count": 28,
   "metadata": {},
   "outputs": [],
   "source": [
    "w_rrGD, loss_history_rr = ridge_regression_gradientDescent(X_train,y_train,ideal_lam_rr,0.00005,1e-6,ret_lossHistory=True)"
   ]
  },
  {
   "cell_type": "code",
   "execution_count": 29,
   "metadata": {},
   "outputs": [
    {
     "data": {
      "image/png": "[encoded data removed]",
      "text/plain": [
       "<Figure size 432x288 with 1 Axes>"
      ]
     },
     "metadata": {},
     "output_type": "display_data"
    }
   ],
   "source": [
    "plt.plot(np.linspace(0,len(loss_history_rr)-1,len(loss_history_rr)),loss_history_rr)\n",
    "plt.title('Covergance of Loss Function over %d Iterations' % (len(loss_history_rr)-1))\n",
    "plt.xlabel('Iteration')\n",
    "plt.ylabel('Loss Function');"
   ]
  },
  {
   "cell_type": "code",
   "execution_count": 30,
   "metadata": {},
   "outputs": [],
   "source": [
    "# Predict crime rates for training data and testing data\n",
    "rrGD_preds_train = X_train @ w_rrGD\n",
    "rrGD_preds_test = X_test @ w_rrGD"
   ]
  },
  {
   "cell_type": "markdown",
   "metadata": {},
   "source": [
    "#### Results"
   ]
  },
  {
   "cell_type": "code",
   "execution_count": 31,
   "metadata": {},
   "outputs": [
    {
     "name": "stdout",
     "output_type": "stream",
     "text": [
      "Training RMSE:  0.12879821380006942\n",
      "Test RMSE:  0.14575250910333068\n"
     ]
    }
   ],
   "source": [
    "print('Training RMSE: ', RMSE(y_train, rrGD_preds_train))\n",
    "print('Test RMSE: ', RMSE(y_test,rrGD_preds_test))"
   ]
  },
  {
   "cell_type": "markdown",
   "metadata": {},
   "source": [
    "### Overall Result Comparison"
   ]
  },
  {
   "cell_type": "markdown",
   "metadata": {},
   "source": [
    "#### Linear Regression"
   ]
  },
  {
   "cell_type": "code",
   "execution_count": 32,
   "metadata": {},
   "outputs": [
    {
     "name": "stdout",
     "output_type": "stream",
     "text": [
      "Training RMSE:  0.12768967421762195\n",
      "Test RMSE:  0.14583464490949063\n"
     ]
    }
   ],
   "source": [
    "# Closed Form\n",
    "print('Training RMSE: ', RMSE(y_train, lrCF_preds_train))\n",
    "print('Test RMSE: ', RMSE(y_test,lrCF_preds_test))"
   ]
  },
  {
   "cell_type": "code",
   "execution_count": 33,
   "metadata": {},
   "outputs": [
    {
     "name": "stdout",
     "output_type": "stream",
     "text": [
      "Training RMSE:  0.12771102875017526\n",
      "Test RMSE:  0.14566827074850322\n"
     ]
    }
   ],
   "source": [
    "# Gradient Descent\n",
    "print('Training RMSE: ', RMSE(y_train, lrGD_preds_train))\n",
    "print('Test RMSE: ', RMSE(y_test,lrGD_preds_test))"
   ]
  },
  {
   "cell_type": "markdown",
   "metadata": {},
   "source": [
    "#### Ridge Regression"
   ]
  },
  {
   "cell_type": "code",
   "execution_count": 34,
   "metadata": {},
   "outputs": [
    {
     "name": "stdout",
     "output_type": "stream",
     "text": [
      "Training RMSE:  0.12879701459879794\n",
      "Test RMSE:  0.1457465070705806\n"
     ]
    }
   ],
   "source": [
    "# Closed Form\n",
    "print('Training RMSE: ', RMSE(y_train, rrCF_preds_train))\n",
    "print('Test RMSE: ', RMSE(y_test, rrCF_preds_test))"
   ]
  },
  {
   "cell_type": "code",
   "execution_count": 35,
   "metadata": {},
   "outputs": [
    {
     "name": "stdout",
     "output_type": "stream",
     "text": [
      "Training RMSE:  0.12879821380006942\n",
      "Test RMSE:  0.14575250910333068\n"
     ]
    }
   ],
   "source": [
    "# Gradient Descent\n",
    "print('Training RMSE: ', RMSE(y_train, rrGD_preds_train))\n",
    "print('Test RMSE: ', RMSE(y_test, rrGD_preds_test))"
   ]
  }
 ],
 "metadata": {
  "kernelspec": {
   "display_name": "Python [conda env:DataAnalysis]",
   "language": "python",
   "name": "conda-env-DataAnalysis-py"
  },
  "language_info": {
   "codemirror_mode": {
    "name": "ipython",
    "version": 3
   },
   "file_extension": ".py",
   "mimetype": "text/x-python",
   "name": "python",
   "nbconvert_exporter": "python",
   "pygments_lexer": "ipython3",
   "version": "3.7.0"
  },
  "toc": {
   "base_numbering": 1,
   "nav_menu": {},
   "number_sections": false,
   "sideBar": true,
   "skip_h1_title": false,
   "title_cell": "Table of Contents",
   "title_sidebar": "Contents",
   "toc_cell": false,
   "toc_position": {},
   "toc_section_display": "block",
   "toc_window_display": true
  },
  "varInspector": {
   "cols": {
    "lenName": 16,
    "lenType": 16,
    "lenVar": 40
   },
   "kernels_config": {
    "python": {
     "delete_cmd_postfix": "",
     "delete_cmd_prefix": "del ",
     "library": "var_list.py",
     "varRefreshCmd": "print(var_dic_list())"
    },
    "r": {
     "delete_cmd_postfix": ") ",
     "delete_cmd_prefix": "rm(",
     "library": "var_list.r",
     "varRefreshCmd": "cat(var_dic_list()) "
    }
   },
   "types_to_exclude": [
    "module",
    "function",
    "builtin_function_or_method",
    "instance",
    "_Feature"
   ],
   "window_display": false
  }
 },
 "nbformat": 4,
 "nbformat_minor": 2
}
