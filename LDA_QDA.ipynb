{
 "cells": [
  {
   "cell_type": "markdown",
   "metadata": {},
   "source": [
    "# Linear and Quadratic Discriminant Analysis (LDA & QDA)"
   ]
  },
  {
   "cell_type": "code",
   "execution_count": 1,
   "metadata": {},
   "outputs": [],
   "source": [
    "import numpy as np\n",
    "import pandas as pd\n",
    "from math import pi,exp\n",
    "from matplotlib import pyplot as plt\n",
    "%matplotlib inline"
   ]
  },
  {
   "cell_type": "markdown",
   "metadata": {},
   "source": [
    "### Explore Data"
   ]
  },
  {
   "cell_type": "code",
   "execution_count": 2,
   "metadata": {},
   "outputs": [
    {
     "data": {
      "text/html": [
       "<div>\n",
       "<style scoped>\n",
       "    .dataframe tbody tr th:only-of-type {\n",
       "        vertical-align: middle;\n",
       "    }\n",
       "\n",
       "    .dataframe tbody tr th {\n",
       "        vertical-align: top;\n",
       "    }\n",
       "\n",
       "    .dataframe thead th {\n",
       "        text-align: right;\n",
       "    }\n",
       "</style>\n",
       "<table border=\"1\" class=\"dataframe\">\n",
       "  <thead>\n",
       "    <tr style=\"text-align: right;\">\n",
       "      <th></th>\n",
       "      <th>sepal_length</th>\n",
       "      <th>sepal_width</th>\n",
       "      <th>petal_length</th>\n",
       "      <th>petal_width</th>\n",
       "      <th>iris_class</th>\n",
       "    </tr>\n",
       "  </thead>\n",
       "  <tbody>\n",
       "    <tr>\n",
       "      <th>0</th>\n",
       "      <td>5.1</td>\n",
       "      <td>3.5</td>\n",
       "      <td>1.4</td>\n",
       "      <td>0.2</td>\n",
       "      <td>Iris-setosa</td>\n",
       "    </tr>\n",
       "    <tr>\n",
       "      <th>1</th>\n",
       "      <td>4.9</td>\n",
       "      <td>3.0</td>\n",
       "      <td>1.4</td>\n",
       "      <td>0.2</td>\n",
       "      <td>Iris-setosa</td>\n",
       "    </tr>\n",
       "    <tr>\n",
       "      <th>2</th>\n",
       "      <td>4.7</td>\n",
       "      <td>3.2</td>\n",
       "      <td>1.3</td>\n",
       "      <td>0.2</td>\n",
       "      <td>Iris-setosa</td>\n",
       "    </tr>\n",
       "    <tr>\n",
       "      <th>3</th>\n",
       "      <td>4.6</td>\n",
       "      <td>3.1</td>\n",
       "      <td>1.5</td>\n",
       "      <td>0.2</td>\n",
       "      <td>Iris-setosa</td>\n",
       "    </tr>\n",
       "    <tr>\n",
       "      <th>4</th>\n",
       "      <td>5.0</td>\n",
       "      <td>3.6</td>\n",
       "      <td>1.4</td>\n",
       "      <td>0.2</td>\n",
       "      <td>Iris-setosa</td>\n",
       "    </tr>\n",
       "  </tbody>\n",
       "</table>\n",
       "</div>"
      ],
      "text/plain": [
       "   sepal_length  sepal_width  petal_length  petal_width   iris_class\n",
       "0           5.1          3.5           1.4          0.2  Iris-setosa\n",
       "1           4.9          3.0           1.4          0.2  Iris-setosa\n",
       "2           4.7          3.2           1.3          0.2  Iris-setosa\n",
       "3           4.6          3.1           1.5          0.2  Iris-setosa\n",
       "4           5.0          3.6           1.4          0.2  Iris-setosa"
      ]
     },
     "execution_count": 2,
     "metadata": {},
     "output_type": "execute_result"
    }
   ],
   "source": [
    "data = pd.read_csv('data/iris.csv',names=['sepal_length','sepal_width','petal_length','petal_width','iris_class'])\n",
    "data.head()"
   ]
  },
  {
   "cell_type": "code",
   "execution_count": 3,
   "metadata": {},
   "outputs": [],
   "source": [
    "# Clean iris column (strip away 'Iris-')\n",
    "data['iris_class'] = data.apply(lambda row: row.iris_class.split('-')[1],axis=1)"
   ]
  },
  {
   "cell_type": "code",
   "execution_count": 4,
   "metadata": {},
   "outputs": [
    {
     "data": {
      "text/plain": [
       "virginica     50\n",
       "setosa        50\n",
       "versicolor    50\n",
       "Name: iris_class, dtype: int64"
      ]
     },
     "execution_count": 4,
     "metadata": {},
     "output_type": "execute_result"
    }
   ],
   "source": [
    "data.iris_class.value_counts()"
   ]
  },
  {
   "cell_type": "code",
   "execution_count": 5,
   "metadata": {},
   "outputs": [
    {
     "data": {
      "text/html": [
       "<div>\n",
       "<style scoped>\n",
       "    .dataframe tbody tr th:only-of-type {\n",
       "        vertical-align: middle;\n",
       "    }\n",
       "\n",
       "    .dataframe tbody tr th {\n",
       "        vertical-align: top;\n",
       "    }\n",
       "\n",
       "    .dataframe thead th {\n",
       "        text-align: right;\n",
       "    }\n",
       "</style>\n",
       "<table border=\"1\" class=\"dataframe\">\n",
       "  <thead>\n",
       "    <tr style=\"text-align: right;\">\n",
       "      <th></th>\n",
       "      <th>sepal_length</th>\n",
       "      <th>sepal_width</th>\n",
       "      <th>petal_length</th>\n",
       "      <th>petal_width</th>\n",
       "    </tr>\n",
       "  </thead>\n",
       "  <tbody>\n",
       "    <tr>\n",
       "      <th>count</th>\n",
       "      <td>50.00000</td>\n",
       "      <td>50.000000</td>\n",
       "      <td>50.000000</td>\n",
       "      <td>50.00000</td>\n",
       "    </tr>\n",
       "    <tr>\n",
       "      <th>mean</th>\n",
       "      <td>5.00600</td>\n",
       "      <td>3.418000</td>\n",
       "      <td>1.464000</td>\n",
       "      <td>0.24400</td>\n",
       "    </tr>\n",
       "    <tr>\n",
       "      <th>std</th>\n",
       "      <td>0.35249</td>\n",
       "      <td>0.381024</td>\n",
       "      <td>0.173511</td>\n",
       "      <td>0.10721</td>\n",
       "    </tr>\n",
       "    <tr>\n",
       "      <th>min</th>\n",
       "      <td>4.30000</td>\n",
       "      <td>2.300000</td>\n",
       "      <td>1.000000</td>\n",
       "      <td>0.10000</td>\n",
       "    </tr>\n",
       "    <tr>\n",
       "      <th>25%</th>\n",
       "      <td>4.80000</td>\n",
       "      <td>3.125000</td>\n",
       "      <td>1.400000</td>\n",
       "      <td>0.20000</td>\n",
       "    </tr>\n",
       "    <tr>\n",
       "      <th>50%</th>\n",
       "      <td>5.00000</td>\n",
       "      <td>3.400000</td>\n",
       "      <td>1.500000</td>\n",
       "      <td>0.20000</td>\n",
       "    </tr>\n",
       "    <tr>\n",
       "      <th>75%</th>\n",
       "      <td>5.20000</td>\n",
       "      <td>3.675000</td>\n",
       "      <td>1.575000</td>\n",
       "      <td>0.30000</td>\n",
       "    </tr>\n",
       "    <tr>\n",
       "      <th>max</th>\n",
       "      <td>5.80000</td>\n",
       "      <td>4.400000</td>\n",
       "      <td>1.900000</td>\n",
       "      <td>0.60000</td>\n",
       "    </tr>\n",
       "  </tbody>\n",
       "</table>\n",
       "</div>"
      ],
      "text/plain": [
       "       sepal_length  sepal_width  petal_length  petal_width\n",
       "count      50.00000    50.000000     50.000000     50.00000\n",
       "mean        5.00600     3.418000      1.464000      0.24400\n",
       "std         0.35249     0.381024      0.173511      0.10721\n",
       "min         4.30000     2.300000      1.000000      0.10000\n",
       "25%         4.80000     3.125000      1.400000      0.20000\n",
       "50%         5.00000     3.400000      1.500000      0.20000\n",
       "75%         5.20000     3.675000      1.575000      0.30000\n",
       "max         5.80000     4.400000      1.900000      0.60000"
      ]
     },
     "execution_count": 5,
     "metadata": {},
     "output_type": "execute_result"
    }
   ],
   "source": [
    "data[data.iris_class=='setosa'].describe()"
   ]
  },
  {
   "cell_type": "code",
   "execution_count": 6,
   "metadata": {},
   "outputs": [
    {
     "data": {
      "text/html": [
       "<div>\n",
       "<style scoped>\n",
       "    .dataframe tbody tr th:only-of-type {\n",
       "        vertical-align: middle;\n",
       "    }\n",
       "\n",
       "    .dataframe tbody tr th {\n",
       "        vertical-align: top;\n",
       "    }\n",
       "\n",
       "    .dataframe thead th {\n",
       "        text-align: right;\n",
       "    }\n",
       "</style>\n",
       "<table border=\"1\" class=\"dataframe\">\n",
       "  <thead>\n",
       "    <tr style=\"text-align: right;\">\n",
       "      <th></th>\n",
       "      <th>sepal_length</th>\n",
       "      <th>sepal_width</th>\n",
       "      <th>petal_length</th>\n",
       "      <th>petal_width</th>\n",
       "    </tr>\n",
       "  </thead>\n",
       "  <tbody>\n",
       "    <tr>\n",
       "      <th>sepal_length</th>\n",
       "      <td>1.000000</td>\n",
       "      <td>-0.109369</td>\n",
       "      <td>0.871754</td>\n",
       "      <td>0.817954</td>\n",
       "    </tr>\n",
       "    <tr>\n",
       "      <th>sepal_width</th>\n",
       "      <td>-0.109369</td>\n",
       "      <td>1.000000</td>\n",
       "      <td>-0.420516</td>\n",
       "      <td>-0.356544</td>\n",
       "    </tr>\n",
       "    <tr>\n",
       "      <th>petal_length</th>\n",
       "      <td>0.871754</td>\n",
       "      <td>-0.420516</td>\n",
       "      <td>1.000000</td>\n",
       "      <td>0.962757</td>\n",
       "    </tr>\n",
       "    <tr>\n",
       "      <th>petal_width</th>\n",
       "      <td>0.817954</td>\n",
       "      <td>-0.356544</td>\n",
       "      <td>0.962757</td>\n",
       "      <td>1.000000</td>\n",
       "    </tr>\n",
       "  </tbody>\n",
       "</table>\n",
       "</div>"
      ],
      "text/plain": [
       "              sepal_length  sepal_width  petal_length  petal_width\n",
       "sepal_length      1.000000    -0.109369      0.871754     0.817954\n",
       "sepal_width      -0.109369     1.000000     -0.420516    -0.356544\n",
       "petal_length      0.871754    -0.420516      1.000000     0.962757\n",
       "petal_width       0.817954    -0.356544      0.962757     1.000000"
      ]
     },
     "execution_count": 6,
     "metadata": {},
     "output_type": "execute_result"
    }
   ],
   "source": [
    "data.corr()"
   ]
  },
  {
   "cell_type": "code",
   "execution_count": 7,
   "metadata": {},
   "outputs": [
    {
     "data": {
      "image/png": "[encoded data removed]",
      "text/plain": [
       "<Figure size 432x288 with 16 Axes>"
      ]
     },
     "metadata": {},
     "output_type": "display_data"
    }
   ],
   "source": [
    "pd.plotting.scatter_matrix(data,c=data.iris_class.map({'setosa':'r','versicolor':'g','virginica':'b'}));"
   ]
  },
  {
   "cell_type": "markdown",
   "metadata": {},
   "source": [
    "Based on these plots, it looks like 'petal_width' would do a decent job alone of classifying iris species. I say this because it appears that all the classes are more or less linearly seperable with respect to that attribute alone (looking at the far right column). I will investigate this further in Part 5."
   ]
  },
  {
   "cell_type": "markdown",
   "metadata": {},
   "source": [
    "### Useful Functions"
   ]
  },
  {
   "cell_type": "code",
   "execution_count": 8,
   "metadata": {},
   "outputs": [
    {
     "data": {
      "text/plain": [
       "array([[ 7, 10],\n",
       "       [15, 22]])"
      ]
     },
     "execution_count": 8,
     "metadata": {},
     "output_type": "execute_result"
    }
   ],
   "source": [
    "np.array([[1,2],[3,4]]) @ np.array([[1,2],[3,4]])"
   ]
  },
  {
   "cell_type": "code",
   "execution_count": 9,
   "metadata": {},
   "outputs": [],
   "source": [
    "# Gaussian probability density function for later\n",
    "def gaussian_prob(x, mu, sig):\n",
    "    \"\"\"Returns the probability of x (column vector) given parameters mu(sample mean) and sig(covariance matrix)\"\"\"\n",
    "    p = x.shape[0]    # number of dimensions\n",
    "    coef = ((1/((2*pi)**p)*np.linalg.det(sig))**(1/2))\n",
    "    return  (coef * exp(-0.5*(x-mu).T @ np.linalg.inv(sig) @ (x-mu)))"
   ]
  },
  {
   "cell_type": "code",
   "execution_count": 10,
   "metadata": {},
   "outputs": [],
   "source": [
    "# Maximum Likelihood Estimation for the Covariance Matrix\n",
    "def calc_covMatrix(data):\n",
    "    \"\"\"Returns the covariance of the matrix 'data'\"\"\"\n",
    "    mu = np.array(data.mean(),ndmin=2).T\n",
    "    sig = np.zeros((mu.shape[0],mu.shape[0]))\n",
    "    for row in data.iterrows():\n",
    "        x = np.array(row[1],ndmin=2).T\n",
    "        sig += (x-mu) @ (x-mu).T\n",
    "    return sig/(len(data)-1)"
   ]
  },
  {
   "cell_type": "code",
   "execution_count": 11,
   "metadata": {},
   "outputs": [],
   "source": [
    "# Function to return accuracy of models\n",
    "def model_accuracy(test_data,model):\n",
    "    data_copy = test_data.copy()\n",
    "    data_copy['prediction'] = data_copy.apply(lambda row: model(np.array(row,ndmin=2).T), axis=1)\n",
    "    data_copy['iris_class'] = data.iris_class\n",
    "    data_copy['pred_correct'] = data_copy.apply(lambda row: row.prediction == row.iris_class,axis=1)\n",
    "    return len(data_copy[data_copy.pred_correct])/len(data_copy)"
   ]
  },
  {
   "cell_type": "markdown",
   "metadata": {},
   "source": [
    "### 1.) Break sample into train/test datasets"
   ]
  },
  {
   "cell_type": "code",
   "execution_count": 12,
   "metadata": {},
   "outputs": [],
   "source": [
    "# Split data into training/test data\n",
    "setosa_train = data[data.iris_class=='setosa'].drop(['iris_class'],axis=1).iloc[0:40]\n",
    "setosa_test = data[data.iris_class=='setosa'].drop(['iris_class'],axis=1).iloc[40:50]\n",
    "versicolor_train = data[data.iris_class=='versicolor'].drop(['iris_class'],axis=1).iloc[0:40]\n",
    "versicolor_test = data[data.iris_class=='versicolor'].drop(['iris_class'],axis=1).iloc[40:50]\n",
    "virginica_train = data[data.iris_class=='virginica'].drop(['iris_class'],axis=1).iloc[0:40]\n",
    "virginica_test = data[data.iris_class=='virginica'].drop(['iris_class'],axis=1).iloc[40:50]\n",
    "\n",
    "all_train = pd.concat([setosa_train,versicolor_train,virginica_train])\n",
    "all_test = pd.concat([setosa_test,versicolor_test,virginica_test])\n",
    "all_ = pd.concat([all_train,all_test])"
   ]
  },
  {
   "cell_type": "markdown",
   "metadata": {},
   "source": [
    "### 2.) LDA Classifier\n",
    "- A Linear Discriminant Analysis (LDA) classifier will assume that: sigma_setosa = sigma_versicolor = sigma_virginica = sigma"
   ]
  },
  {
   "cell_type": "code",
   "execution_count": 13,
   "metadata": {},
   "outputs": [],
   "source": [
    "# Estimate parameters based on Maximum Liklihood Estimation (MLE)\n",
    "setosa_mu = np.array(setosa_train.mean(),ndmin=2).T\n",
    "versicolor_mu = np.array(versicolor_train.mean(),ndmin=2).T\n",
    "virginica_mu = np.array(virginica_train.mean(),ndmin=2).T\n",
    "\n",
    "setosa_sig = calc_covMatrix(setosa_train)\n",
    "versicolor_sig = calc_covMatrix(versicolor_train)\n",
    "virginica_sig = calc_covMatrix(virginica_train)\n",
    "combined_sig = (1/3)*(setosa_sig+versicolor_sig+virginica_sig)"
   ]
  },
  {
   "cell_type": "code",
   "execution_count": 14,
   "metadata": {},
   "outputs": [],
   "source": [
    "def LDA_Classifier(x):\n",
    "    probabilities = {\n",
    "        'setosa': gaussian_prob(x,mu=setosa_mu,sig=combined_sig),\n",
    "        'versicolor': gaussian_prob(x,mu=versicolor_mu,sig=combined_sig),\n",
    "        'virginica': gaussian_prob(x,mu=virginica_mu,sig=combined_sig)\n",
    "    }\n",
    "    return max(probabilities, key=probabilities.get)"
   ]
  },
  {
   "cell_type": "markdown",
   "metadata": {},
   "source": [
    "#### Results"
   ]
  },
  {
   "cell_type": "code",
   "execution_count": 15,
   "metadata": {},
   "outputs": [
    {
     "name": "stdout",
     "output_type": "stream",
     "text": [
      "Training data accuracy:  0.975\n",
      "Test data accuracy:  1.0\n",
      "All data accuracy:  0.98\n"
     ]
    }
   ],
   "source": [
    "print('Training data accuracy: ', model_accuracy(all_train,LDA_Classifier))\n",
    "print('Test data accuracy: ', model_accuracy(all_test,LDA_Classifier))\n",
    "print('All data accuracy: ', model_accuracy(all_,LDA_Classifier))"
   ]
  },
  {
   "cell_type": "markdown",
   "metadata": {},
   "source": [
    "### 3.) QDA Classifier"
   ]
  },
  {
   "cell_type": "code",
   "execution_count": 16,
   "metadata": {},
   "outputs": [],
   "source": [
    "def QDA_Classifier(x):\n",
    "    probabilities = {\n",
    "        'setosa': gaussian_prob(x,mu=setosa_mu,sig=setosa_sig),\n",
    "        'versicolor': gaussian_prob(x,mu=versicolor_mu,sig=versicolor_sig),\n",
    "        'virginica': gaussian_prob(x,mu=virginica_mu,sig=virginica_sig)\n",
    "    }\n",
    "    return max(probabilities, key=probabilities.get)"
   ]
  },
  {
   "cell_type": "markdown",
   "metadata": {},
   "source": [
    "#### Results"
   ]
  },
  {
   "cell_type": "code",
   "execution_count": 17,
   "metadata": {},
   "outputs": [
    {
     "name": "stdout",
     "output_type": "stream",
     "text": [
      "Training data accuracy:  0.975\n",
      "Test data accuracy:  1.0\n",
      "All data accuracy:  0.98\n"
     ]
    }
   ],
   "source": [
    "print('Training data accuracy: ', model_accuracy(all_train,QDA_Classifier))\n",
    "print('Test data accuracy: ', model_accuracy(all_test,QDA_Classifier))\n",
    "print('All data accuracy: ', model_accuracy(all_,QDA_Classifier))"
   ]
  },
  {
   "cell_type": "markdown",
   "metadata": {},
   "source": [
    "### 4.) Are Classes Linearly Seperable?"
   ]
  },
  {
   "cell_type": "code",
   "execution_count": 18,
   "metadata": {},
   "outputs": [
    {
     "name": "stdout",
     "output_type": "stream",
     "text": [
      "Setosa accuracy: 1.0\n",
      "Versicolor accuracy: 0.96\n",
      "Virginica accuracy: 0.98\n"
     ]
    }
   ],
   "source": [
    "print('Setosa accuracy:',model_accuracy(pd.concat([setosa_test,setosa_train]),LDA_Classifier))\n",
    "print('Versicolor accuracy:',model_accuracy(pd.concat([versicolor_test,versicolor_train]),LDA_Classifier))\n",
    "print('Virginica accuracy:',model_accuracy(pd.concat([virginica_test,virginica_train]),LDA_Classifier))"
   ]
  },
  {
   "cell_type": "markdown",
   "metadata": {},
   "source": [
    "A class is linearly seperable all instances of it can be correctly predicted by a LDA classifier. By running all the data through my LDA classifier, we can see that the model correctly classifies all instances of the Setosa class. Thus, the Setosa class is linearly seperable from the other two species. \n",
    "\n",
    "This matches what I would expect based on the scatter matrix in the 'Expore Data' section. A quick glance at this scatter matrix shows that there is distinct seperation between Setosa and the other classes for most attributes."
   ]
  },
  {
   "cell_type": "markdown",
   "metadata": {},
   "source": [
    "### 5.) Importance of Features"
   ]
  },
  {
   "cell_type": "markdown",
   "metadata": {
    "collapsed": true
   },
   "source": [
    "Based on my experiments, both LDA and QDA classifiers are quite successful when trained only with the 'petal_width' attribute alone. While the other three attributes do provide a miniscule increase in accuracy, it may not be worth the increased complexity of the model. \n",
    "\n",
    "_This reduced model yielding the follwing results:_<br>\n",
    "__LDA__<br>\n",
    "Training data accuracy:  0.95<br>\n",
    "Test data accuracy:  1.0<br>\n",
    "All data accuracy:  0.96<br>\n",
    "\n",
    "__QDA__<br>\n",
    "Training data accuracy:  0.95<br>\n",
    "Test data accuracy:  0.9666666666666667<br>\n",
    "All data accuracy:  0.9533333333333334\n",
    "\n",
    "As shown by the results, these reduced models are not far off from the accuracy of the LDA and QDA classifiers trained on all of the data. Thus I would say that __'sepal_length'__, __'sepal_width'__, and __'petal_length'__ are not important in classifying iris type."
   ]
  },
  {
   "cell_type": "markdown",
   "metadata": {},
   "source": [
    "### 6.) Models with Independent Features"
   ]
  },
  {
   "cell_type": "code",
   "execution_count": 19,
   "metadata": {},
   "outputs": [],
   "source": [
    "def calc_covMatrix_ind(data):\n",
    "    sig = calc_covMatrix(data)\n",
    "    return sig * np.eye(len(sig))"
   ]
  },
  {
   "cell_type": "code",
   "execution_count": 20,
   "metadata": {},
   "outputs": [],
   "source": [
    "setosa_sigInd = calc_covMatrix_ind(setosa_train)\n",
    "versicolor_sigInd = calc_covMatrix_ind(versicolor_train)\n",
    "virginica_sigInd = calc_covMatrix_ind(virginica_train)\n",
    "combined_sigInd = (1/3)*(setosa_sigInd+versicolor_sigInd+virginica_sigInd)"
   ]
  },
  {
   "cell_type": "markdown",
   "metadata": {},
   "source": [
    "#### LDA"
   ]
  },
  {
   "cell_type": "code",
   "execution_count": 21,
   "metadata": {},
   "outputs": [],
   "source": [
    "def LDA_Classifier_ind(x):\n",
    "    probabilities = {\n",
    "        'setosa': gaussian_prob(x,mu=setosa_mu,sig=combined_sigInd),\n",
    "        'versicolor': gaussian_prob(x,mu=versicolor_mu,sig=combined_sigInd),\n",
    "        'virginica': gaussian_prob(x,mu=virginica_mu,sig=combined_sigInd)\n",
    "    }\n",
    "    return max(probabilities, key=probabilities.get)"
   ]
  },
  {
   "cell_type": "code",
   "execution_count": 22,
   "metadata": {},
   "outputs": [
    {
     "name": "stdout",
     "output_type": "stream",
     "text": [
      "Training data accuracy:  0.95\n",
      "Test data accuracy:  1.0\n",
      "All data accuracy:  0.96\n"
     ]
    }
   ],
   "source": [
    "print('Training data accuracy: ', model_accuracy(all_train,LDA_Classifier_ind))\n",
    "print('Test data accuracy: ', model_accuracy(all_test,LDA_Classifier_ind))\n",
    "print('All data accuracy: ', model_accuracy(all_,LDA_Classifier_ind))"
   ]
  },
  {
   "cell_type": "markdown",
   "metadata": {},
   "source": [
    "#### QDA"
   ]
  },
  {
   "cell_type": "code",
   "execution_count": 23,
   "metadata": {},
   "outputs": [],
   "source": [
    "def QDA_Classifier_ind(x):\n",
    "    probabilities = {\n",
    "        'setosa': gaussian_prob(x,mu=setosa_mu,sig=setosa_sigInd),\n",
    "        'versicolor': gaussian_prob(x,mu=versicolor_mu,sig=versicolor_sigInd),\n",
    "        'virginica': gaussian_prob(x,mu=virginica_mu,sig=virginica_sigInd)\n",
    "    }\n",
    "    return max(probabilities, key=probabilities.get)"
   ]
  },
  {
   "cell_type": "code",
   "execution_count": 24,
   "metadata": {},
   "outputs": [
    {
     "name": "stdout",
     "output_type": "stream",
     "text": [
      "Training data accuracy:  0.9416666666666667\n",
      "Test data accuracy:  1.0\n",
      "All data accuracy:  0.9533333333333334\n"
     ]
    }
   ],
   "source": [
    "print('Training data accuracy: ', model_accuracy(all_train,QDA_Classifier_ind))\n",
    "print('Test data accuracy: ', model_accuracy(all_test,QDA_Classifier_ind))\n",
    "print('All data accuracy: ', model_accuracy(all_,QDA_Classifier_ind))"
   ]
  }
 ],
 "metadata": {
  "kernelspec": {
   "display_name": "Python [conda env:DataAnalysis]",
   "language": "python",
   "name": "conda-env-DataAnalysis-py"
  },
  "language_info": {
   "codemirror_mode": {
    "name": "ipython",
    "version": 3
   },
   "file_extension": ".py",
   "mimetype": "text/x-python",
   "name": "python",
   "nbconvert_exporter": "python",
   "pygments_lexer": "ipython3",
   "version": "3.7.0"
  },
  "toc": {
   "base_numbering": 1,
   "nav_menu": {},
   "number_sections": false,
   "sideBar": true,
   "skip_h1_title": false,
   "title_cell": "Table of Contents",
   "title_sidebar": "Contents",
   "toc_cell": false,
   "toc_position": {},
   "toc_section_display": "block",
   "toc_window_display": false
  },
  "varInspector": {
   "cols": {
    "lenName": 16,
    "lenType": 16,
    "lenVar": 40
   },
   "kernels_config": {
    "python": {
     "delete_cmd_postfix": "",
     "delete_cmd_prefix": "del ",
     "library": "var_list.py",
     "varRefreshCmd": "print(var_dic_list())"
    },
    "r": {
     "delete_cmd_postfix": ") ",
     "delete_cmd_prefix": "rm(",
     "library": "var_list.r",
     "varRefreshCmd": "cat(var_dic_list()) "
    }
   },
   "types_to_exclude": [
    "module",
    "function",
    "builtin_function_or_method",
    "instance",
    "_Feature"
   ],
   "window_display": false
  }
 },
 "nbformat": 4,
 "nbformat_minor": 2
}
